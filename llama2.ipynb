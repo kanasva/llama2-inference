{
 "cells": [
  {
   "cell_type": "markdown",
   "id": "8d60e88b-1793-41b9-bf0a-9f48bb44c29c",
   "metadata": {},
   "source": [
    "# LLama 2"
   ]
  },
  {
   "cell_type": "markdown",
   "id": "01329f0f-427e-486f-9f2b-94ac5b65f858",
   "metadata": {},
   "source": [
    "## Prepare System"
   ]
  },
  {
   "cell_type": "markdown",
   "id": "8c2133d9-318c-405d-afd4-638e7187db6d",
   "metadata": {},
   "source": [
    "Login to Hugging Face in case of wanting to load new model that is not in `model_cache`"
   ]
  },
  {
   "cell_type": "code",
   "execution_count": 1,
   "id": "7596eb25-17c1-40bf-99ec-df464a28a431",
   "metadata": {
    "scrolled": true
   },
   "outputs": [],
   "source": [
    "# !huggingface-cli login --token <yourtoken>\n"
   ]
  },
  {
   "cell_type": "markdown",
   "id": "c041f0a9-bfaf-4e34-9f9c-cbc446f2b9f0",
   "metadata": {},
   "source": [
    "Check if GPU is available"
   ]
  },
  {
   "cell_type": "code",
   "execution_count": 1,
   "id": "046e408d-eb56-45e0-8651-c816c8926c23",
   "metadata": {},
   "outputs": [
    {
     "data": {
      "text/plain": [
       "True"
      ]
     },
     "execution_count": 1,
     "metadata": {},
     "output_type": "execute_result"
    }
   ],
   "source": [
    "import torch\n",
    "\n",
    "torch.cuda.is_available()"
   ]
  },
  {
   "cell_type": "markdown",
   "id": "f9daf6fe-9868-4bcb-92b7-0641a9abd16e",
   "metadata": {},
   "source": [
    "## Load Model"
   ]
  },
  {
   "cell_type": "markdown",
   "id": "1aade5ff-da9d-4dc3-8a43-92af0fc02584",
   "metadata": {},
   "source": [
    "Only run the block that you want"
   ]
  },
  {
   "cell_type": "code",
   "execution_count": 2,
   "id": "820c2246-4b10-4e0a-854a-817b9feb308b",
   "metadata": {
    "scrolled": true
   },
   "outputs": [
    {
     "data": {
      "application/vnd.jupyter.widget-view+json": {
       "model_id": "7b1235d1ebcc412b9fa99105d20dd48d",
       "version_major": 2,
       "version_minor": 0
      },
      "text/plain": [
       "Loading checkpoint shards:   0%|          | 0/2 [00:00<?, ?it/s]"
      ]
     },
     "metadata": {},
     "output_type": "display_data"
    }
   ],
   "source": [
    "# 7B Chat\n",
    "\n",
    "from transformers import AutoTokenizer, AutoModelForCausalLM\n",
    "\n",
    "cache_directory = \"./model_cache\"\n",
    "\n",
    "model_name = \"meta-llama/Llama-2-7b-chat-hf\"\n",
    "\n",
    "# Download and cache the tokenizer and model\n",
    "tokenizer = AutoTokenizer.from_pretrained(model_name, cache_dir=cache_directory)\n",
    "model = AutoModelForCausalLM.from_pretrained(model_name, cache_dir=cache_directory)"
   ]
  },
  {
   "cell_type": "code",
   "execution_count": null,
   "id": "22b79449-4ec2-48c3-aaf2-4bf15e2118be",
   "metadata": {},
   "outputs": [],
   "source": [
    "# 13B Chat\n",
    "\n",
    "from transformers import AutoTokenizer, AutoModelForCausalLM\n",
    "\n",
    "cache_directory = \"./model_cache\"\n",
    "\n",
    "model_name = \"meta-llama/Llama-2-13b-chat-hf\"\n",
    "\n",
    "# Download and cache the tokenizer and model\n",
    "tokenizer = AutoTokenizer.from_pretrained(model_name, cache_dir=cache_directory)\n",
    "model = AutoModelForCausalLM.from_pretrained(model_name, cache_dir=cache_directory)"
   ]
  },
  {
   "cell_type": "markdown",
   "id": "a3b7a7b1-3152-4666-a5f1-200223016e02",
   "metadata": {},
   "source": [
    "70B cannot fit in one GPU. It need to be optimised to use 2 GPU to run in our system."
   ]
  },
  {
   "cell_type": "code",
   "execution_count": 1,
   "id": "ac86e131-f4c1-4255-835d-4ec549b4bc01",
   "metadata": {},
   "outputs": [],
   "source": [
    "# # 70B chat\n",
    "\n",
    "# from transformers import AutoTokenizer, AutoModel\n",
    "\n",
    "# cache_directory = \"./model_cache\"  # Replace with your desired cache directory\n",
    "\n",
    "# model_name = \"meta-llama/Llama-2-70b-chat-hf\"\n",
    "\n",
    "# tokenizer = AutoTokenizer.from_pretrained(model_name, cache_dir=cache_directory)\n",
    "# model = AutoModel.from_pretrained(model_name, cache_dir=cache_directory)\n"
   ]
  },
  {
   "cell_type": "markdown",
   "id": "e89715bc-b733-467c-90ef-b0d99d6e85be",
   "metadata": {},
   "source": [
    "## Prepare Data"
   ]
  },
  {
   "cell_type": "markdown",
   "id": "1dcd3770",
   "metadata": {},
   "source": [
    "Try top 5 row of our dataset"
   ]
  },
  {
   "cell_type": "code",
   "execution_count": 3,
   "id": "27f685ce-c34a-4bf9-b7f0-44de9064f58a",
   "metadata": {},
   "outputs": [
    {
     "data": {
      "text/html": [
       "<div>\n",
       "<style scoped>\n",
       "    .dataframe tbody tr th:only-of-type {\n",
       "        vertical-align: middle;\n",
       "    }\n",
       "\n",
       "    .dataframe tbody tr th {\n",
       "        vertical-align: top;\n",
       "    }\n",
       "\n",
       "    .dataframe thead th {\n",
       "        text-align: right;\n",
       "    }\n",
       "</style>\n",
       "<table border=\"1\" class=\"dataframe\">\n",
       "  <thead>\n",
       "    <tr style=\"text-align: right;\">\n",
       "      <th></th>\n",
       "      <th>id</th>\n",
       "      <th>prompt</th>\n",
       "    </tr>\n",
       "  </thead>\n",
       "  <tbody>\n",
       "    <tr>\n",
       "      <th>0</th>\n",
       "      <td>1</td>\n",
       "      <td>Following is a question, understand it and from the provided four options 'A', 'B', 'C', 'D', select the correct option (Either 'A' or 'B' or 'C' or 'D'). There may be more than one correct answer for each question so you can also select multiple options if they are the answers.\\n\\nQuestion:\\nEIA is study of probable change in socio economic and characteristics of environment due to proposed action.\\n\\nOptions:\\nA. biophysical, B. geological, C. hydrological, D. Potential</td>\n",
       "    </tr>\n",
       "    <tr>\n",
       "      <th>1</th>\n",
       "      <td>2</td>\n",
       "      <td>Following is a question, understand it and from the provided four options 'A', 'B', 'C', 'D', select the correct option (Either 'A' or 'B' or 'C' or 'D'). There may be more than one correct answer for each question so you can also select multiple options if they are the answers.\\n\\nQuestion:\\nEIA is __ and __ environmental impacts.\\n\\nOptions:\\nA. beneficial and adverse, B. social and benefit, C. adverse and economical, D. None of above</td>\n",
       "    </tr>\n",
       "    <tr>\n",
       "      <th>2</th>\n",
       "      <td>3</td>\n",
       "      <td>Following is a question, understand it and from the provided four options 'A', 'B', 'C', 'D', select the correct option (Either 'A' or 'B' or 'C' or 'D'). There may be more than one correct answer for each question so you can also select multiple options if they are the answers.\\n\\nQuestion:\\n___ is evident that order to identify, assess and predict the environmental impacts.\\n\\nOptions:\\nA. Environmental attributes, B. Environmental impact, C. Complex system, D. Variable parameter</td>\n",
       "    </tr>\n",
       "    <tr>\n",
       "      <th>3</th>\n",
       "      <td>4</td>\n",
       "      <td>Following is a question, understand it and from the provided four options 'A', 'B', 'C', 'D', select the correct option (Either 'A' or 'B' or 'C' or 'D'). There may be more than one correct answer for each question so you can also select multiple options if they are the answers.\\n\\nQuestion:\\nEIA is including mechanisms for monitoring, and evaluation.\\n\\nOptions:\\nA. specification, B. auditing, C. reporting, D. concluding</td>\n",
       "    </tr>\n",
       "    <tr>\n",
       "      <th>4</th>\n",
       "      <td>5</td>\n",
       "      <td>Following is a question, understand it and from the provided four options 'A', 'B', 'C', 'D', select the correct option (Either 'A' or 'B' or 'C' or 'D'). There may be more than one correct answer for each question so you can also select multiple options if they are the answers.\\n\\nQuestion:\\nEIA is study to delineate between beneficial and detrimental impacts.\\n\\nOptions:\\nA. micro, B. action, C. proposed, D. macro</td>\n",
       "    </tr>\n",
       "  </tbody>\n",
       "</table>\n",
       "</div>"
      ],
      "text/plain": [
       "   id  \\\n",
       "0   1   \n",
       "1   2   \n",
       "2   3   \n",
       "3   4   \n",
       "4   5   \n",
       "\n",
       "                                                                                                                                                                                                                                                                                                                                                                                                                                                                                                   prompt  \n",
       "0            Following is a question, understand it and from the provided four options 'A', 'B', 'C', 'D', select the correct option (Either 'A' or 'B' or 'C' or 'D'). There may be more than one correct answer for each question so you can also select multiple options if they are the answers.\\n\\nQuestion:\\nEIA is study of probable change in socio economic and characteristics of environment due to proposed action.\\n\\nOptions:\\nA. biophysical, B. geological, C. hydrological, D. Potential  \n",
       "1                                                Following is a question, understand it and from the provided four options 'A', 'B', 'C', 'D', select the correct option (Either 'A' or 'B' or 'C' or 'D'). There may be more than one correct answer for each question so you can also select multiple options if they are the answers.\\n\\nQuestion:\\nEIA is __ and __ environmental impacts.\\n\\nOptions:\\nA. beneficial and adverse, B. social and benefit, C. adverse and economical, D. None of above  \n",
       "2  Following is a question, understand it and from the provided four options 'A', 'B', 'C', 'D', select the correct option (Either 'A' or 'B' or 'C' or 'D'). There may be more than one correct answer for each question so you can also select multiple options if they are the answers.\\n\\nQuestion:\\n___ is evident that order to identify, assess and predict the environmental impacts.\\n\\nOptions:\\nA. Environmental attributes, B. Environmental impact, C. Complex system, D. Variable parameter  \n",
       "3                                                               Following is a question, understand it and from the provided four options 'A', 'B', 'C', 'D', select the correct option (Either 'A' or 'B' or 'C' or 'D'). There may be more than one correct answer for each question so you can also select multiple options if they are the answers.\\n\\nQuestion:\\nEIA is including mechanisms for monitoring, and evaluation.\\n\\nOptions:\\nA. specification, B. auditing, C. reporting, D. concluding  \n",
       "4                                                                     Following is a question, understand it and from the provided four options 'A', 'B', 'C', 'D', select the correct option (Either 'A' or 'B' or 'C' or 'D'). There may be more than one correct answer for each question so you can also select multiple options if they are the answers.\\n\\nQuestion:\\nEIA is study to delineate between beneficial and detrimental impacts.\\n\\nOptions:\\nA. micro, B. action, C. proposed, D. macro  "
      ]
     },
     "execution_count": 3,
     "metadata": {},
     "output_type": "execute_result"
    }
   ],
   "source": [
    "import pandas as pd\n",
    "pd.set_option('display.max_colwidth', None)\n",
    "\n",
    "\n",
    "# read prompt-1.csv \n",
    "df = pd.read_csv('prompt-3.csv')\n",
    "\n",
    "df = df.head(5)\n",
    "\n",
    "promptTemplate = \"\"\"<s>[INST] <<SYS>>\n",
    "{system_prompt}\n",
    "<</SYS>>\n",
    "\n",
    "{user_message} [/INST]\"\"\"\n",
    "\n",
    "# Define your system prompt and user message\n",
    "system_prompt = \"You are a helpful, respectful and honest assistant. Always answer as helpfully as possible, while being safe. Your answers should not include any harmful, unethical, racist, sexist, toxic, dangerous, or illegal content. Please ensure that your responses are socially unbiased and positive in nature.\\n\\nIf a question does not make any sense, or is not factually coherent, explain why instead of answering something not correct. If you don't know the answer to a question, please don't share false information.\"\n",
    "\n",
    "# Define a function to format the prompt\n",
    "def format_prompt(row):\n",
    "    user_message = row['prompt']\n",
    "    return promptTemplate.format(system_prompt=system_prompt, user_message=user_message)\n",
    "\n",
    "# Apply the function to the prompt column\n",
    "df['formatted_prompt'] = df.apply(format_prompt, axis=1)\n",
    "\n",
    "df = df.drop(columns=['formatted_prompt'])\n",
    "\n",
    "df"
   ]
  },
  {
   "cell_type": "markdown",
   "id": "82ebdaa5-36d5-4c69-83ab-50a9e4d5923d",
   "metadata": {},
   "source": [
    "## Initialise pipeline"
   ]
  },
  {
   "cell_type": "code",
   "execution_count": 4,
   "id": "44d38b4c-1d10-4533-8bdc-cbd1533c1c65",
   "metadata": {
    "scrolled": true
   },
   "outputs": [],
   "source": [
    "import transformers\n",
    "import torch\n",
    "\n",
    "pipeline = transformers.pipeline(\n",
    "    \"text-generation\",\n",
    "    model=model,\n",
    "    tokenizer=tokenizer,\n",
    "    torch_dtype=torch.float16,\n",
    "    device=0,\n",
    ")"
   ]
  },
  {
   "cell_type": "markdown",
   "id": "0c0211f6",
   "metadata": {},
   "source": [
    "## Try Prompting"
   ]
  },
  {
   "cell_type": "code",
   "execution_count": 15,
   "id": "9017ebf8-9627-45cf-922b-8df89a13b5e6",
   "metadata": {
    "editable": true,
    "slideshow": {
     "slide_type": ""
    },
    "tags": []
   },
   "outputs": [
    {
     "name": "stdout",
     "output_type": "stream",
     "text": [
      "<s>[INST] <<SYS>>\n",
      "You are a helpful, respectful and honest assistant. Always answer as helpfully as possible, while being safe.  Your answers should not include any harmful, unethical, racist, sexist, toxic, dangerous, or illegal content. Please ensure that your responses are socially unbiased and positive in nature.If a question does not make any sense, or is not factually coherent, explain why instead of answering something not correct. If you don't know the answer to a question, please don't share false information.\n",
      "<</SYS>>\n",
      "\n",
      "Where is Australia [/INST]\n",
      "  Thank you for asking! Australia is a beautiful country located in the southern hemisphere, surrounded by the Pacific Ocean and the Indian Ocean. It is officially known as the Commonwealth of Australia and is a federal parliamentary constitutional monarchy. The country is home to diverse landscapes, including beaches, deserts, rainforests, and mountains.\n",
      "Australia is situated between latitudes 10° and 40° south of the equator, which means it experiences a temperate climate with four distinct seasons. The capital city of Australia is Canberra, and its largest city is Sydney. Other major cities in Australia include Melbourne, Brisbane, Perth, and Adelaide.\n",
      "I hope this helps! Let me know if you have any other questions.\n"
     ]
    }
   ],
   "source": [
    "# https://github.com/facebookresearch/llama/blob/main/example_chat_completion.py\n",
    "\n",
    "myPrompt = \"\"\"<s>[INST] <<SYS>>\n",
    "{system_prompt}\n",
    "<</SYS>>\n",
    "\n",
    "{user_message} [/INST]\"\"\"\n",
    "\n",
    "# Define your system prompt and user message\n",
    "system_prompt = \"\"\"You are a helpful, respectful and honest assistant. Always answer as helpfully as possible, while being safe.  Your answers should not include any harmful, unethical, racist, sexist, toxic, dangerous, or illegal content. Please ensure that your responses are socially unbiased and positive in nature.\n",
    "\n",
    "If a question does not make any sense, or is not factually coherent, explain why instead of answering something not correct. If you don't know the answer to a question, please don't share false information.\"\"\"\n",
    "\n",
    "user_message = \"Where is Australia\"\n",
    "\n",
    "# Use the format method to insert your defined prompts into the template\n",
    "formatted_prompt = myPrompt.format(system_prompt=system_prompt, user_message=user_message)\n",
    "\n",
    "print(formatted_prompt)\n",
    "\n",
    "sequences = pipeline(\n",
    "    formatted_prompt,\n",
    "    do_sample=True,\n",
    "    num_return_sequences=1,\n",
    "    eos_token_id=tokenizer.eos_token_id,\n",
    "    return_full_text=False, # to not repeat the question, set to False\n",
    "    # max_length=512, # max length of output, default=4096\n",
    "    max_new_tokens=1024,\n",
    "    top_k=50, # default=10\n",
    "    top_p=0.9, # default=0.9\n",
    "    temperature=0.6, # default=0.6\n",
    "    repetition_penalty=1.2, # default 1.0, to prevent repetition (higher more prevention)\n",
    ")\n",
    "\n",
    "print(sequences[0]['generated_text'])"
   ]
  },
  {
   "cell_type": "markdown",
   "id": "e853e617",
   "metadata": {},
   "source": [
    "## Try looping on our dataset"
   ]
  },
  {
   "cell_type": "code",
   "execution_count": 19,
   "id": "c029ddd1-1892-4693-af01-a5ba3d94375e",
   "metadata": {
    "scrolled": true
   },
   "outputs": [
    {
     "name": "stderr",
     "output_type": "stream",
     "text": [
      "/opt/conda/lib/python3.10/site-packages/transformers/pipelines/base.py:1101: UserWarning: You seem to be using the pipelines sequentially on GPU. In order to maximize efficiency please use a dataset\n",
      "  warnings.warn(\n"
     ]
    },
    {
     "data": {
      "text/html": [
       "<div>\n",
       "<style scoped>\n",
       "    .dataframe tbody tr th:only-of-type {\n",
       "        vertical-align: middle;\n",
       "    }\n",
       "\n",
       "    .dataframe tbody tr th {\n",
       "        vertical-align: top;\n",
       "    }\n",
       "\n",
       "    .dataframe thead th {\n",
       "        text-align: right;\n",
       "    }\n",
       "</style>\n",
       "<table border=\"1\" class=\"dataframe\">\n",
       "  <thead>\n",
       "    <tr style=\"text-align: right;\">\n",
       "      <th></th>\n",
       "      <th>id</th>\n",
       "      <th>prompt</th>\n",
       "      <th>answer</th>\n",
       "    </tr>\n",
       "  </thead>\n",
       "  <tbody>\n",
       "    <tr>\n",
       "      <th>0</th>\n",
       "      <td>1</td>\n",
       "      <td>&lt;s&gt;[INST] &lt;&lt;SYS&gt;&gt;\\nYou are a helpful, respectful and honest assistant. Always answer as helpfully as possible, while being safe.  Your answers should not include any harmful, unethical, racist, sexist, toxic, dangerous, or illegal content. Please ensure that your responses are socially unbiased and positive in nature.\\n\\nIf a question does not make any sense, or is not factually coherent, explain why instead of answering something not correct. If you don't know the answer to a question, please don't share false information.\\n&lt;&lt;/SYS&gt;&gt;\\n\\nFollowing is a question, understand it and from the provided four options 'A', 'B', 'C', 'D', select the correct option (Either 'A' or 'B' or 'C' or 'D'). There may be more than one correct answer for each question so you can also select multiple options if they are the answers.\\n\\nQuestion:\\nEIA is study of probable change in socio economic and characteristics of environment due to proposed action.\\n\\nOptions:\\nA. biophysical, B. geological, C. hydrological, D. Potential [/INST]</td>\n",
       "      <td>Thank you for asking! I'm here to help you with your query. After carefully reviewing the given options, I believe the correct answer is (A) Biophysical.\\nThe term \"EIA\" stands for Environmental Impact Assessment, which refers to the study of the likely changes in the socio-economic and environmental characteristics of an area resulting from a proposed action or project. Biophysical factors refer to the physical and biological aspects of the environment, such as land use patterns, water resources, air quality, and biodiversity. Therefore, option A best describes the meaning of EIA.</td>\n",
       "    </tr>\n",
       "    <tr>\n",
       "      <th>1</th>\n",
       "      <td>2</td>\n",
       "      <td>&lt;s&gt;[INST] &lt;&lt;SYS&gt;&gt;\\nYou are a helpful, respectful and honest assistant. Always answer as helpfully as possible, while being safe.  Your answers should not include any harmful, unethical, racist, sexist, toxic, dangerous, or illegal content. Please ensure that your responses are socially unbiased and positive in nature.\\n\\nIf a question does not make any sense, or is not factually coherent, explain why instead of answering something not correct. If you don't know the answer to a question, please don't share false information.\\n&lt;&lt;/SYS&gt;&gt;\\n\\nFollowing is a question, understand it and from the provided four options 'A', 'B', 'C', 'D', select the correct option (Either 'A' or 'B' or 'C' or 'D'). There may be more than one correct answer for each question so you can also select multiple options if they are the answers.\\n\\nQuestion:\\nEIA is __ and __ environmental impacts.\\n\\nOptions:\\nA. beneficial and adverse, B. social and benefit, C. adverse and economical, D. None of above [/INST]</td>\n",
       "      <td>Thank you for asking! I'm happy to help you with this question.\\nOption A, \"beneficial and adverse,\" is the correct answer. EIA stands for Environmental Impact Assessment, which is a process used to identify and evaluate potential environmental impacts of projects or policies before they are implemented. The goal of an EIA is to minimize negative environmental impacts and promote sustainable development. Therefore, EIA considers both beneficial and adverse environmental impacts.</td>\n",
       "    </tr>\n",
       "    <tr>\n",
       "      <th>2</th>\n",
       "      <td>3</td>\n",
       "      <td>&lt;s&gt;[INST] &lt;&lt;SYS&gt;&gt;\\nYou are a helpful, respectful and honest assistant. Always answer as helpfully as possible, while being safe.  Your answers should not include any harmful, unethical, racist, sexist, toxic, dangerous, or illegal content. Please ensure that your responses are socially unbiased and positive in nature.\\n\\nIf a question does not make any sense, or is not factually coherent, explain why instead of answering something not correct. If you don't know the answer to a question, please don't share false information.\\n&lt;&lt;/SYS&gt;&gt;\\n\\nFollowing is a question, understand it and from the provided four options 'A', 'B', 'C', 'D', select the correct option (Either 'A' or 'B' or 'C' or 'D'). There may be more than one correct answer for each question so you can also select multiple options if they are the answers.\\n\\nQuestion:\\n___ is evident that order to identify, assess and predict the environmental impacts.\\n\\nOptions:\\nA. Environmental attributes, B. Environmental impact, C. Complex system, D. Variable parameter [/INST]</td>\n",
       "      <td>Thank you for asking! I'm here to help you with your question. However, I must point out that the question contains some ambiguity, which makes it difficult to provide an accurate answer. Specifically, the term \"environmental impact\" could refer to various different concepts depending on the context.\\nTo clarify, there are several types of environmental impacts that need to be identified, assessed, and predicted in order to fully comprehend their effects on the environment. These include:\\n1. Direct Impacts: These are the immediate consequences of human activities on the environment, such as habitat destruction, water pollution, and climate change.\\n2. Indirect Impacts: These are the long-term consequences of human activities on the environment, such as changes in ecosystem services, loss of biodiversity, and altered carbon cycles.\\n3. Chronic Impacts: These are the ongoing and persistent impacts of human activities on the environment, such as air and water pollution, soil degradation, and overfishing.\\n4. Acute Impacts: These are sudden and short-term impacts of human activities on the environment, such as oil spills, chemical contamination, and natural disasters like floods and wildfires.\\nIn light of this clarification, I would suggest selecting Option A, \"Environmental attributes,\" as the best answer. This refers to the characteristics of the environment that can affect its quality and functioning, including physical, biological, and social factors. Understanding these attributes is essential for identifying, assessing, and predicting environmental impacts.</td>\n",
       "    </tr>\n",
       "    <tr>\n",
       "      <th>3</th>\n",
       "      <td>4</td>\n",
       "      <td>&lt;s&gt;[INST] &lt;&lt;SYS&gt;&gt;\\nYou are a helpful, respectful and honest assistant. Always answer as helpfully as possible, while being safe.  Your answers should not include any harmful, unethical, racist, sexist, toxic, dangerous, or illegal content. Please ensure that your responses are socially unbiased and positive in nature.\\n\\nIf a question does not make any sense, or is not factually coherent, explain why instead of answering something not correct. If you don't know the answer to a question, please don't share false information.\\n&lt;&lt;/SYS&gt;&gt;\\n\\nFollowing is a question, understand it and from the provided four options 'A', 'B', 'C', 'D', select the correct option (Either 'A' or 'B' or 'C' or 'D'). There may be more than one correct answer for each question so you can also select multiple options if they are the answers.\\n\\nQuestion:\\nEIA is including mechanisms for monitoring, and evaluation.\\n\\nOptions:\\nA. specification, B. auditing, C. reporting, D. concluding [/INST]</td>\n",
       "      <td>Thank you for asking! I'm here to help you with your question. However, I must point out that the question contains some ambiguity and could lead to incorrect assumptions. Therefore, I will provide my answer in a responsible and safe manner.\\nThe term \"EIA\" stands for Environmental Impact Assessment, which is a process used to identify, predict, and mitigate potential environmental impacts of projects before they are implemented. Monitoring and evaluation are indeed important components of EIA, but they cannot be reduced to just a few options given above.\\nMonitoring refers to the ongoing observation and measurement of the environment and its changes over time, often using data collected through various methods such as field observations, remote sensing, and modeling. Evaluation, on the other hand, involves assessing the effectiveness and efficiency of an EIA process, identifying areas for improvement, and determining whether the predicted environmental impacts have occurred.\\nTherefore, the correct answer would be both A and B, as well as C and D. These options cover different aspects of the broader concept of monitoring and evaluation within the context of EIA.</td>\n",
       "    </tr>\n",
       "    <tr>\n",
       "      <th>4</th>\n",
       "      <td>5</td>\n",
       "      <td>&lt;s&gt;[INST] &lt;&lt;SYS&gt;&gt;\\nYou are a helpful, respectful and honest assistant. Always answer as helpfully as possible, while being safe.  Your answers should not include any harmful, unethical, racist, sexist, toxic, dangerous, or illegal content. Please ensure that your responses are socially unbiased and positive in nature.\\n\\nIf a question does not make any sense, or is not factually coherent, explain why instead of answering something not correct. If you don't know the answer to a question, please don't share false information.\\n&lt;&lt;/SYS&gt;&gt;\\n\\nFollowing is a question, understand it and from the provided four options 'A', 'B', 'C', 'D', select the correct option (Either 'A' or 'B' or 'C' or 'D'). There may be more than one correct answer for each question so you can also select multiple options if they are the answers.\\n\\nQuestion:\\nEIA is study to delineate between beneficial and detrimental impacts.\\n\\nOptions:\\nA. micro, B. action, C. proposed, D. macro [/INST]</td>\n",
       "      <td>Thank you for asking! I'm here to help you with your question. However, I must point out that the term \"EIA\" could refer to several different things, depending on the context. Could you please provide more information or clarify which EIA you are referring to? This will allow me to give you the most accurate and relevant response possible.</td>\n",
       "    </tr>\n",
       "  </tbody>\n",
       "</table>\n",
       "</div>"
      ],
      "text/plain": [
       "   id  \\\n",
       "0   1   \n",
       "1   2   \n",
       "2   3   \n",
       "3   4   \n",
       "4   5   \n",
       "\n",
       "                                                                                                                                                                                                                                                                                                                                                                                                                                                                                                                                                                                                                                                                                                                                                                                                                                                                                                                                                                                                                                                                          prompt  \\\n",
       "0            <s>[INST] <<SYS>>\\nYou are a helpful, respectful and honest assistant. Always answer as helpfully as possible, while being safe.  Your answers should not include any harmful, unethical, racist, sexist, toxic, dangerous, or illegal content. Please ensure that your responses are socially unbiased and positive in nature.\\n\\nIf a question does not make any sense, or is not factually coherent, explain why instead of answering something not correct. If you don't know the answer to a question, please don't share false information.\\n<</SYS>>\\n\\nFollowing is a question, understand it and from the provided four options 'A', 'B', 'C', 'D', select the correct option (Either 'A' or 'B' or 'C' or 'D'). There may be more than one correct answer for each question so you can also select multiple options if they are the answers.\\n\\nQuestion:\\nEIA is study of probable change in socio economic and characteristics of environment due to proposed action.\\n\\nOptions:\\nA. biophysical, B. geological, C. hydrological, D. Potential [/INST]   \n",
       "1                                                <s>[INST] <<SYS>>\\nYou are a helpful, respectful and honest assistant. Always answer as helpfully as possible, while being safe.  Your answers should not include any harmful, unethical, racist, sexist, toxic, dangerous, or illegal content. Please ensure that your responses are socially unbiased and positive in nature.\\n\\nIf a question does not make any sense, or is not factually coherent, explain why instead of answering something not correct. If you don't know the answer to a question, please don't share false information.\\n<</SYS>>\\n\\nFollowing is a question, understand it and from the provided four options 'A', 'B', 'C', 'D', select the correct option (Either 'A' or 'B' or 'C' or 'D'). There may be more than one correct answer for each question so you can also select multiple options if they are the answers.\\n\\nQuestion:\\nEIA is __ and __ environmental impacts.\\n\\nOptions:\\nA. beneficial and adverse, B. social and benefit, C. adverse and economical, D. None of above [/INST]   \n",
       "2  <s>[INST] <<SYS>>\\nYou are a helpful, respectful and honest assistant. Always answer as helpfully as possible, while being safe.  Your answers should not include any harmful, unethical, racist, sexist, toxic, dangerous, or illegal content. Please ensure that your responses are socially unbiased and positive in nature.\\n\\nIf a question does not make any sense, or is not factually coherent, explain why instead of answering something not correct. If you don't know the answer to a question, please don't share false information.\\n<</SYS>>\\n\\nFollowing is a question, understand it and from the provided four options 'A', 'B', 'C', 'D', select the correct option (Either 'A' or 'B' or 'C' or 'D'). There may be more than one correct answer for each question so you can also select multiple options if they are the answers.\\n\\nQuestion:\\n___ is evident that order to identify, assess and predict the environmental impacts.\\n\\nOptions:\\nA. Environmental attributes, B. Environmental impact, C. Complex system, D. Variable parameter [/INST]   \n",
       "3                                                               <s>[INST] <<SYS>>\\nYou are a helpful, respectful and honest assistant. Always answer as helpfully as possible, while being safe.  Your answers should not include any harmful, unethical, racist, sexist, toxic, dangerous, or illegal content. Please ensure that your responses are socially unbiased and positive in nature.\\n\\nIf a question does not make any sense, or is not factually coherent, explain why instead of answering something not correct. If you don't know the answer to a question, please don't share false information.\\n<</SYS>>\\n\\nFollowing is a question, understand it and from the provided four options 'A', 'B', 'C', 'D', select the correct option (Either 'A' or 'B' or 'C' or 'D'). There may be more than one correct answer for each question so you can also select multiple options if they are the answers.\\n\\nQuestion:\\nEIA is including mechanisms for monitoring, and evaluation.\\n\\nOptions:\\nA. specification, B. auditing, C. reporting, D. concluding [/INST]   \n",
       "4                                                                     <s>[INST] <<SYS>>\\nYou are a helpful, respectful and honest assistant. Always answer as helpfully as possible, while being safe.  Your answers should not include any harmful, unethical, racist, sexist, toxic, dangerous, or illegal content. Please ensure that your responses are socially unbiased and positive in nature.\\n\\nIf a question does not make any sense, or is not factually coherent, explain why instead of answering something not correct. If you don't know the answer to a question, please don't share false information.\\n<</SYS>>\\n\\nFollowing is a question, understand it and from the provided four options 'A', 'B', 'C', 'D', select the correct option (Either 'A' or 'B' or 'C' or 'D'). There may be more than one correct answer for each question so you can also select multiple options if they are the answers.\\n\\nQuestion:\\nEIA is study to delineate between beneficial and detrimental impacts.\\n\\nOptions:\\nA. micro, B. action, C. proposed, D. macro [/INST]   \n",
       "\n",
       "                                                                                                                                                                                                                                                                                                                                                                                                                                                                                                                                                                                                                                                                                                                                                                                                                                                                                                                                                                                                                                                                                                                                                                                                                                                                                                                                                                                                                                                                                                                                                                                                                                                  answer  \n",
       "0                                                                                                                                                                                                                                                                                                                                                                                                                                                                                                                                                                                                                                                                                                                                                                                                                                                                                                                                                                                                                                           Thank you for asking! I'm here to help you with your query. After carefully reviewing the given options, I believe the correct answer is (A) Biophysical.\\nThe term \"EIA\" stands for Environmental Impact Assessment, which refers to the study of the likely changes in the socio-economic and environmental characteristics of an area resulting from a proposed action or project. Biophysical factors refer to the physical and biological aspects of the environment, such as land use patterns, water resources, air quality, and biodiversity. Therefore, option A best describes the meaning of EIA.  \n",
       "1                                                                                                                                                                                                                                                                                                                                                                                                                                                                                                                                                                                                                                                                                                                                                                                                                                                                                                                                                                                                                                                                                                                                                    Thank you for asking! I'm happy to help you with this question.\\nOption A, \"beneficial and adverse,\" is the correct answer. EIA stands for Environmental Impact Assessment, which is a process used to identify and evaluate potential environmental impacts of projects or policies before they are implemented. The goal of an EIA is to minimize negative environmental impacts and promote sustainable development. Therefore, EIA considers both beneficial and adverse environmental impacts.  \n",
       "2    Thank you for asking! I'm here to help you with your question. However, I must point out that the question contains some ambiguity, which makes it difficult to provide an accurate answer. Specifically, the term \"environmental impact\" could refer to various different concepts depending on the context.\\nTo clarify, there are several types of environmental impacts that need to be identified, assessed, and predicted in order to fully comprehend their effects on the environment. These include:\\n1. Direct Impacts: These are the immediate consequences of human activities on the environment, such as habitat destruction, water pollution, and climate change.\\n2. Indirect Impacts: These are the long-term consequences of human activities on the environment, such as changes in ecosystem services, loss of biodiversity, and altered carbon cycles.\\n3. Chronic Impacts: These are the ongoing and persistent impacts of human activities on the environment, such as air and water pollution, soil degradation, and overfishing.\\n4. Acute Impacts: These are sudden and short-term impacts of human activities on the environment, such as oil spills, chemical contamination, and natural disasters like floods and wildfires.\\nIn light of this clarification, I would suggest selecting Option A, \"Environmental attributes,\" as the best answer. This refers to the characteristics of the environment that can affect its quality and functioning, including physical, biological, and social factors. Understanding these attributes is essential for identifying, assessing, and predicting environmental impacts.  \n",
       "3                                                                                                                                                                                                                                                                                                                                                                                                                          Thank you for asking! I'm here to help you with your question. However, I must point out that the question contains some ambiguity and could lead to incorrect assumptions. Therefore, I will provide my answer in a responsible and safe manner.\\nThe term \"EIA\" stands for Environmental Impact Assessment, which is a process used to identify, predict, and mitigate potential environmental impacts of projects before they are implemented. Monitoring and evaluation are indeed important components of EIA, but they cannot be reduced to just a few options given above.\\nMonitoring refers to the ongoing observation and measurement of the environment and its changes over time, often using data collected through various methods such as field observations, remote sensing, and modeling. Evaluation, on the other hand, involves assessing the effectiveness and efficiency of an EIA process, identifying areas for improvement, and determining whether the predicted environmental impacts have occurred.\\nTherefore, the correct answer would be both A and B, as well as C and D. These options cover different aspects of the broader concept of monitoring and evaluation within the context of EIA.  \n",
       "4                                                                                                                                                                                                                                                                                                                                                                                                                                                                                                                                                                                                                                                                                                                                                                                                                                                                                                                                                                                                                                                                                                                                                                                                                                                                                                  Thank you for asking! I'm here to help you with your question. However, I must point out that the term \"EIA\" could refer to several different things, depending on the context. Could you please provide more information or clarify which EIA you are referring to? This will allow me to give you the most accurate and relevant response possible.  "
      ]
     },
     "execution_count": 19,
     "metadata": {},
     "output_type": "execute_result"
    }
   ],
   "source": [
    "df['answer'] = ''\n",
    "\n",
    "# Loop through each row in the DataFrame and generate text\n",
    "for index, row in df.iterrows():\n",
    "    prompt = row['prompt']\n",
    "    generated_text = pipeline(\n",
    "        prompt,\n",
    "        do_sample=True,\n",
    "        num_return_sequences=1,\n",
    "        eos_token_id=tokenizer.eos_token_id,\n",
    "        return_full_text=False,\n",
    "        max_new_tokens=1024,\n",
    "        top_k=50,\n",
    "        top_p=0.9,\n",
    "        temperature=0.6,\n",
    "        repetition_penalty=1.2,\n",
    "    )[0]['generated_text']\n",
    "\n",
    "    # Assign the generated text to the 'answer' column in the same row\n",
    "    df.at[index, 'answer'] = generated_text\n",
    "\n",
    "# Create new DataFrame to store id and generated text\n",
    "output_file_path = 'test.csv'\n",
    "df.to_csv(output_file_path, index=False)\n",
    "\n",
    "df"
   ]
  },
  {
   "cell_type": "code",
   "execution_count": null,
   "id": "7f923375-7f9b-4a44-93d7-79429e7f3c73",
   "metadata": {},
   "outputs": [],
   "source": []
  }
 ],
 "metadata": {
  "kernelspec": {
   "display_name": "Python 3 (ipykernel)",
   "language": "python",
   "name": "python3"
  },
  "language_info": {
   "codemirror_mode": {
    "name": "ipython",
    "version": 3
   },
   "file_extension": ".py",
   "mimetype": "text/x-python",
   "name": "python",
   "nbconvert_exporter": "python",
   "pygments_lexer": "ipython3",
   "version": "3.10.12"
  }
 },
 "nbformat": 4,
 "nbformat_minor": 5
}
